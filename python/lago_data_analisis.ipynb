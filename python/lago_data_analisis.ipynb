{
 "cells": [
  {
   "cell_type": "markdown",
   "metadata": {
    "ein.tags": "worksheet-0",
    "slideshow": {
     "slide_type": "-"
    }
   },
   "source": [
    "# LAGO data analisis#\n",
    "\n",
    "26/05/2022:\n",
    "\n",
    "Análisis de los datos adquiridos con la redpitaya en LAGO.\n",
    "Los archivos a analizar pueden tener la extensión .dat o .bz2. "
   ]
  },
  {
   "cell_type": "markdown",
   "metadata": {},
   "source": [
    "Importo los modulos necesarios"
   ]
  },
  {
   "cell_type": "code",
   "execution_count": null,
   "metadata": {
    "autoscroll": false,
    "ein.hycell": false,
    "ein.tags": "worksheet-0",
    "slideshow": {
     "slide_type": "-"
    }
   },
   "outputs": [],
   "source": [
    "%matplotlib notebook\n",
    "import bz2, os, time\n",
    "from os import path\n",
    "import numpy as np\n",
    "from matplotlib import pyplot as plt\n",
    "from scipy import stats, interpolate\n",
    "from scipy.optimize import curve_fit\n",
    "import matplotlib.dates as mdate\n",
    "from my_funcs import getfiles, natural_sort_key, cumsum_sma"
   ]
  },
  {
   "cell_type": "markdown",
   "metadata": {
    "ein.tags": "worksheet-0",
    "slideshow": {
     "slide_type": "-"
    }
   },
   "source": [
    "Configuración y directorios. Los datos están en mi disco externo."
   ]
  },
  {
   "cell_type": "code",
   "execution_count": null,
   "metadata": {
    "autoscroll": false,
    "ein.hycell": false,
    "ein.tags": "worksheet-0",
    "slideshow": {
     "slide_type": "-"
    }
   },
   "outputs": [],
   "source": [
    "NBINS    = 32  # 32 bines por pulso\n",
    "ADCBITS  = 14  # 14 bits\n",
    "TIME_SEP = 8e-9   # 8 ns por punto\n",
    "BASELINE = 0   # linea de base\n",
    "\n",
    "#data_dir= '/media/arnaldi/seagate4tb/git/lharnaldi/python_scripts/data_analisis/rp/lago/data/'\n",
    "data_dir = 'data/' # Directorio donde se encuentran los datos\n",
    "plot_dir = 'plot/' # Directorio donde se guardaran las graficas\n",
    "\n",
    "#fname_prefix puede ser mon_hv,mon_hv_v2,spnk,spnk_v2\n",
    "#fname_prefix = 'spnk'\n",
    "\n",
    "#sadq,tepoch,clk_freq,r1,r2,tempi,pres,hv1,hv2,temp1,temp2 = np.loadtxt('{}_mtd_tot.bz2'.format(fname_prefix), unpack=1)\n",
    "#cntri,tch,dt = np.loadtxt('{}_dt_tot.bz2'.format(fname_prefix), unpack=1)"
   ]
  },
  {
   "cell_type": "markdown",
   "metadata": {},
   "source": [
    "### 0.- Channels\n",
    "Gráficas de los pulsos en los canales adquiridos."
   ]
  },
  {
   "cell_type": "code",
   "execution_count": null,
   "metadata": {},
   "outputs": [],
   "source": [
    "N=5000 # Número de puntos a graficar\n",
    "\n",
    "#filename = input('Ingrese el nombre del archivo (*.dat o *.bz2) a procesar : ')\n",
    "#filename= 'nuclearexp2_nogps_2022_05_13_14h00.dat.bz2' # Nombre del archivo a graficar\n",
    "#filename= 'nico_nogps_2022_05_23_23h00.dat.bz2'\n",
    "filename= 't50_nogps_2022_05_30_00h00.dat.bz2'\n",
    "ch1, ch2 = np.loadtxt(os.path.join(data_dir, filename), unpack=1, dtype=int)"
   ]
  },
  {
   "cell_type": "code",
   "execution_count": null,
   "metadata": {},
   "outputs": [],
   "source": [
    "x=np.linspace(0,N,N-1)\n",
    "fig,ax = plt.subplots(nrows=1, ncols=1, figsize=(10,5))\n",
    "\n",
    "ax.step(x,ch1[:N-1], 'r-.',lw=1, label='CH1')\n",
    "ax.step(x,ch2[:N-1], 'b.-',lw=1, label='CH2')\n",
    "\n",
    "#ax.plot(ch1, 'r-o',lw=1, label='CH1')\n",
    "#ax.plot(ch2, 'b.-',lw=1, label='CH2')\n",
    "\n",
    "ax.legend(fontsize=11)\n",
    "ax.grid()\n",
    "ax.set_xlim(0,1500)\n",
    "ax.set_ylabel('Amplitude (ADC)',fontsize=14)\n",
    "ax.set_xlabel('Time (ADC.bin)',fontsize=14)\n",
    "\n",
    "plt.savefig(os.path.join(plot_dir,'pulses_{}.png'.format(filename)))\n",
    "#plt.show()"
   ]
  },
  {
   "cell_type": "markdown",
   "metadata": {},
   "source": [
    "### 1.- Análisis de las baselines. \n",
    "Se hace el fit con la función gaussiana  $A \\cdot e^{\\left(\\frac{-(x-x_0)^2}{(2\\cdot\\sigma^2)}\\right)}$"
   ]
  },
  {
   "cell_type": "code",
   "execution_count": null,
   "metadata": {},
   "outputs": [],
   "source": [
    "#Para hacer el fit con una gaussiana, definimos la funcion\n",
    "def gauss_function(x, a, x0, sigma):\n",
    "        return a*np.exp(-(x-x0)**2/(2*sigma**2))"
   ]
  },
  {
   "cell_type": "code",
   "execution_count": null,
   "metadata": {},
   "outputs": [],
   "source": [
    "#check if length is ok\n",
    "ch1b=np.resize(ch1,ch1.size - len(ch1)%NBINS)\n",
    "ch2b=np.resize(ch2,ch2.size - len(ch2)%NBINS)\n",
    "\n",
    "bl1 = ch1b[0::NBINS]\n",
    "bl2 = ch2b[0::NBINS]"
   ]
  },
  {
   "cell_type": "code",
   "execution_count": null,
   "metadata": {},
   "outputs": [],
   "source": [
    "# En esta parte remuevo los datos que están más lejos de mean+-std*2\n",
    "mean1=np.mean(bl1)\n",
    "mean2=np.mean(bl2)\n",
    "sd1=np.std(bl1)\n",
    "sd2=np.std(bl2)\n",
    "\n",
    "#bl1 = [x for x in bl1 if (x > mean1 - 3 * sd1)]\n",
    "#bl2 = [x for x in bl2 if (x > mean2 - 3 * sd2)]\n",
    "#bl1 = [x for x in bl1 if (x < mean1 + 3 * sd1)]\n",
    "#bl2 = [x for x in bl2 if (x < mean2 + 3 * sd2)]"
   ]
  },
  {
   "cell_type": "code",
   "execution_count": null,
   "metadata": {},
   "outputs": [],
   "source": [
    "fig,ax = plt.subplots(nrows=1, ncols=1, figsize=(7,6))\n",
    "ax.grid()\n",
    "\n",
    "#h1,bins1=np.histogram(bl1,bins=np.arange(min(bl1),max(bl1) + 1, 1),density=1)\n",
    "#h2,bins2=np.histogram(bl2,bins=np.arange(min(bl2),max(bl2) + 1, 1),density=1)\n",
    "h_bl1,b_bl1=np.histogram(bl1,bins=np.arange(min(bl1),max(bl1) + 1, 1))\n",
    "h_bl2,b_bl2=np.histogram(bl2,bins=np.arange(min(bl2),max(bl2) + 1, 1))\n",
    "popt1,pcov1 = curve_fit(gauss_function, b_bl1[:-1], h_bl1)\n",
    "popt2,pcov2 = curve_fit(gauss_function, b_bl2[:-1], h_bl2)\n",
    "#y1=stats.norm.pdf(bins1,np.mean(bl1),np.std(bl1))\n",
    "#y2=stats.norm.pdf(bins2,np.mean(bl2),np.std(bl2))\n",
    "#plt.clf()\n",
    "ax.plot(b_bl1[:-1],h_bl1,'g',alpha=0.5,lw=3,label='CH1')\n",
    "ax.plot(b_bl2[:-1],h_bl2,'r',alpha=0.5,lw=3,label='CH2')\n",
    "ax.plot(b_bl1[:-1],gauss_function(b_bl1[:-1],*popt1),'g--',lw=2,label='Fit1, $\\mu$ = %2.2f, $\\sigma^2$ = %2.2f'%(np.mean(bl1),np.std(bl1)**2))\n",
    "ax.plot(b_bl2[:-1],gauss_function(b_bl2[:-1],*popt2),'b--',lw=2,label='Fit2, $\\mu$ = %2.2f, $\\sigma^2$ = %2.2f'%(np.mean(bl2),np.std(bl2)**2))\n",
    "#ax.plot(bins1,y1,'g--',lw=3,label='CH1, $\\mu$ = %2.2f, $\\sigma^2$ = %2.2f'%(np.mean(bl1),np.std(bl1)**2))\n",
    "#ax.plot(bins2,y2,'b',lw=3,label='CH2, $\\mu$ = %2.2f, $\\sigma^2$ = %2.2f'%(np.mean(bl2),np.std(bl2)**2))\n",
    "ax.axis([mean2-5*sd2, mean2+5*sd2,min(h_bl2),max(h_bl2)])\n",
    "ax.set_xlabel('ADC bins',fontsize=14, fontname='monospace')\n",
    "ax.set_ylabel('# cuentas',fontsize=14, fontname='monospace')\n",
    "ax.legend()\n",
    "print('CH1:',np.mean(bl1),'CH2:',np.mean(bl2))\n",
    "plt.savefig(os.path.join(plot_dir,'bl_analisis.png'))\n",
    "#plt.show()\n",
    "\n",
    "#print(fr'$A_1$ = {popt1[0]}, $x0_1 =$ {popt1[1]}, $\\sigma_1$ = {popt1[2]}')\n",
    "print(r'$A_1$ = ',popt1[0], r'$x0_1 =$ ',popt1[1], r'$\\sigma_1$ = ',popt1[2])\n",
    "print(r'$A_2$ = ',popt2[0], r'$x0_2 =$ ',popt2[1], r'$\\sigma_2$ = ',popt2[2])"
   ]
  },
  {
   "cell_type": "markdown",
   "metadata": {},
   "source": [
    "### 2.- Histogramas de amplitud\n",
    "Graficas de los histogramas de amplitud de los pulsos en los canales adquiridos."
   ]
  },
  {
   "cell_type": "code",
   "execution_count": null,
   "metadata": {},
   "outputs": [],
   "source": [
    "h_amp1,b_amp1=np.histogram(ch1,bins=np.arange(min(ch1),max(ch1) + 1, 1))\n",
    "h_amp2,b_amp2=np.histogram(ch2,bins=np.arange(min(ch2),max(ch2) + 1, 1))"
   ]
  },
  {
   "cell_type": "code",
   "execution_count": null,
   "metadata": {},
   "outputs": [],
   "source": [
    "fig, ax= plt.subplots(1, 1, figsize=(7, 6))\n",
    "ax.grid()\n",
    "#ax.semilogx(bins1[:-1],n1,bins2[:-1],n2)\n",
    "ax.loglog(b_amp1[:-1],h_amp1, color='red', label='CH1')\n",
    "ax.loglog(b_amp2[:-1],h_amp2, color='blue', label='CH2')\n",
    "#ax.semilogy(b_amp1[:-1],h_amp1, color='red', label='CH1')\n",
    "#ax.semilogy(b_amp2[:-1],h_amp2, color='blue', label='CH2')\n",
    "#ax.plot(bins1[:-1],n1, color='red', lw=2, label='CH1')\n",
    "#ax.plot(bins2[:-1],n2, color='blue', lw=2, label='CH2')\n",
    "#ax.semilogx(hcar2.mean(axis=0), color='blue', lw=2, label='CH2')\n",
    "ax.set_xlabel('ADC bins',fontsize=14, fontname='monospace')\n",
    "ax.set_ylabel('log(#)',fontsize=14, fontname='monospace')\n",
    "plt.legend()\n",
    "#ax.set_ylim(1,0.8e4)\n",
    "#ax.set_xlim(50,400)\n",
    "# this is an inset axes over the main axes\n",
    "#a = plt.axes([.65, .6, .2, .2], axisbg='y', alpha=0.02)\n",
    "#a = plt.axes([.55, .55, .32, .32])\n",
    "#a.loglog(hcar2.mean(axis=0), color='blue', lw=2, label='CH2')\n",
    "#a.loglog(hcar2.mean(axis=0), color='blue', label='CH2')\n",
    "#a.loglog(bins1[:-1],n1,bins2[:-1],n2,bins3[:-1],n3)\n",
    "#a.loglog(bins2[:-1],n2, color='blue', lw=2, label='CH2')\n",
    "#a.set_xlabel('Charge [ADC.bin]',fontsize=14, fontname='monospace')\n",
    "#a.set_ylabel('Counts',fontsize=14, fontname='monospace')\n",
    "#a.set_ylim(1,2e4)\n",
    "#a.set_xlim(50,400)\n",
    "#a.grid()\n",
    "#plt.savefig('histo_peak.png')\n",
    "plt.savefig(os.path.join(plot_dir,'amp_histo.png'))\n",
    "#plt.show()"
   ]
  },
  {
   "cell_type": "markdown",
   "metadata": {},
   "source": [
    "### 3.- Histogramas de carga\n"
   ]
  },
  {
   "cell_type": "code",
   "execution_count": null,
   "metadata": {},
   "outputs": [],
   "source": [
    "BL1= np.mean(bl1) # baseline 1. \n",
    "BL2= np.mean(bl2)  # baseline 2. "
   ]
  },
  {
   "cell_type": "code",
   "execution_count": null,
   "metadata": {},
   "outputs": [],
   "source": [
    "#Areas\n",
    "a1=np.array([int((ch1b[i:i+NBINS]-BL1).sum()) for i in np.arange(0,len(ch1b),NBINS)])\n",
    "a2=np.array([int((ch2b[i:i+NBINS]-BL2).sum()) for i in np.arange(0,len(ch2b),NBINS)])\n",
    "#Picos\n",
    "p1=np.array([int((ch1b[i:i+NBINS]-BL1).max()) for i in np.arange(0,len(ch1b),NBINS)])\n",
    "p2=np.array([int((ch2b[i:i+NBINS]-BL2).max()) for i in np.arange(0,len(ch2b),NBINS)])"
   ]
  },
  {
   "cell_type": "code",
   "execution_count": null,
   "metadata": {},
   "outputs": [],
   "source": [
    "#print(len(a1),len(p1))\n",
    "#print(p1[:10])"
   ]
  },
  {
   "cell_type": "code",
   "execution_count": null,
   "metadata": {},
   "outputs": [],
   "source": [
    "#int((ch1b[0:0+NBINS]-BL1).max())"
   ]
  },
  {
   "cell_type": "code",
   "execution_count": null,
   "metadata": {},
   "outputs": [],
   "source": [
    "#n1,bins1=np.histogram(a1,bins='auto',density=1)\n",
    "#n2,bins2=np.histogram(a2,bins='auto',density=1)\n",
    "#n1,bins1=np.histogram(a1,bins=np.arange(min(h1),max(h1) + 1, 1),density=1)\n",
    "#n2,bins2=np.histogram(a2,bins=np.arange(min(h2),max(h2) + 1, 1),density=1)\n",
    "h_car1,b_car1=np.histogram(a1,bins=np.arange(min(a1),max(a1) + 1, 1))\n",
    "h_car2,b_car2=np.histogram(a2,bins=np.arange(min(a2),max(a2) + 1, 1))\n",
    "#n1,bins1=np.histogram(a1,8192)\n",
    "#n2,bins2=np.histogram(a2,8192)"
   ]
  },
  {
   "cell_type": "code",
   "execution_count": null,
   "metadata": {},
   "outputs": [],
   "source": [
    "fig, ax= plt.subplots(1, 1, figsize=(7, 6))\n",
    "ax.grid()\n",
    "\n",
    "#ax.loglog(b_car1[:-1],h_car1, color='red', lw=2, label='CH1')\n",
    "#ax.loglog(b_car2[:-1],h_car2, color='blue', lw=2, label='CH2')\n",
    "ax.semilogy(b_car1[:-1],h_car1, color='red', lw=2, label='CH1')\n",
    "ax.semilogy(b_car2[:-1],h_car2, color='blue', lw=2, label='CH2')\n",
    "ax.legend()\n",
    "\n",
    "ax.set_xlabel('ADC bins',fontsize=14, fontname='monospace')\n",
    "ax.set_ylabel('# of entries',fontsize=14, fontname='monospace')\n",
    "#ax.set_ylim(1,0.8e4)\n",
    "#ax.set_xlim(50,400)\n",
    "# this is an inset axes over the main axes\n",
    "#a = plt.axes([.65, .6, .2, .2], alpha=0.02)\n",
    "#a = plt.axes([.55, .55, .32, .32])\n",
    "##a.loglog(hcar2.mean(axis=0), color='blue', lw=2, label='CH2')\n",
    "##a.loglog(hcar2.mean(axis=0), color='blue', label='CH2')\n",
    "#a.semilogx(bins1[:-1],n1,bins2[:-1],n2)\n",
    "#a.semilogx(bins2[:-1],n2, color='blue', lw=2, label='CH2')\n",
    "##a.set_xlabel('Charge [ADC.bin]',fontsize=14, fontname='monospace')\n",
    "##a.set_ylabel('Counts',fontsize=14, fontname='monospace')\n",
    "##a.set_ylim(1,2e4)\n",
    "##a.set_xlim(50,400)\n",
    "#a.grid()\n",
    "#plt.savefig('histo_carga.png')\n",
    "plt.savefig(os.path.join(plot_dir,'charge_histo.pdf'))\n",
    "#plt.show()"
   ]
  },
  {
   "cell_type": "markdown",
   "metadata": {},
   "source": [
    " ### Análisis de los metadatos. \n",
    " \n",
    " Se analiza todo un directorio con archivos adquiridos con la rp.\n",
    "\n",
    "v 5\n",
    "\n",
    " This is a LAGO raw data file, version 5\n",
    " It contains the following data:\n",
    "   <N1> <N2>        : line with values of the 2 ADC for a triggered pulse\n",
    "   t <C> <V>      : end of a trigger\n",
    "                      gives the channel trigger (<C>: 3 bit mask) and 125 MHz clock count (<V>) of the trigger time\n",
    "    c <C>          : internal trigger counter\n",
    "    r1 <V>         : pulse rate at channel 1\n",
    "    r2 <V>         : pulse rate at channel 2\n",
    "    x f <V>        : 125 MHz frequency\n",
    "    x t <V>        : temperature value\n",
    "    x p <V>        : pressure value\n",
    "    x h <HH:MM:SS> <DD/MM/YYYY> <S> : GPS time (every new second, last number is seconds since EPOCH)\n",
    "    x s <T> C <P> hPa <A> m : temperature <T>, pressure <P> and altitude (from pressure) <A>\n",
    "    x g <LAT> <LON> <ALT>   : GPS data - latitude, longitude, altitude\n",
    "    x v <HV1> <HV2>         : HV voltages for channels 1 and 2\n",
    "    x b <B1> <B2> <B3>      : baselines (NOT IMPLEMENTED IN LAGO)\n",
    " In case of error, an unfinished line will be finished by # E @@@\n",
    " Followed by a line with # E <N> and the error message in human readable format, where <N> is the error code:\n",
    "    E 1 : read timeout of 2 seconds\n",
    "    E 2 : too many buffer reading tries\n",
    "    E 3 : unknown word from FPGA\n",
    "\n",
    " Current registers setting\n",
    "\n",
    " x c T1 200\n",
    " x c T2 8190\n",
    " x c HV1 1799.7 mV\n",
    " x c HV2 7.7 mV\n",
    " x c SC1 1\n",
    " x c SC2 1\n",
    " This file was started on lago\n",
    " Machine local time was Thu Jan  1 20:11:11 1970\n",
    " WARNING, there is no GPS, using PC time"
   ]
  },
  {
   "cell_type": "code",
   "execution_count": null,
   "metadata": {},
   "outputs": [],
   "source": [
    "dt      = np.array([])     #diferencias temporales\n",
    "tch     = np.array([])     #trigger channel\n",
    "cntri   = np.array([])     #contador interno de triggers\n",
    "sadq    = np.array([])     #segundos de adquisicion - tiempo\n",
    "clk_freq= np.array([])     #clock frequency\n",
    "tempi   = np.array([])     #internal temperature\n",
    "pres    = np.array([])     #internal presure\n",
    "r1      = np.array([])     #rate 1\n",
    "r2      = np.array([])     #rate 2\n",
    "hv1     = np.array([])     #HV1\n",
    "hv2     = np.array([])     #HV2\n",
    "temp1   = np.array([])     #temperatura leida del sensor AD592 ch1\n",
    "temp2   = np.array([])     #temperatura leida del sensor AD592 ch2\n",
    "tepoch  = np.array([])     #tiempo epoch"
   ]
  },
  {
   "cell_type": "code",
   "execution_count": null,
   "metadata": {},
   "outputs": [],
   "source": [
    "#thefile=bz2.BZ2File(os.path.join(data_dir, filename),\"r\")\n",
    "#thefile=open(os.path.join(data_dir, filename),\"r\")\n",
    "with bz2.open(os.path.join(data_dir,filename),mode='rt',encoding='utf-8') as thefile:\n",
    "    for line in thefile:\n",
    "        #sp = line.decode('utf-8').split()\n",
    "        sp = line.split()\n",
    "        if sp[0] == '#':\n",
    "            #print(sp)\n",
    "            if sp[1] == 't': #tiempos entre triggers\n",
    "                tch = np.append(tch,int(sp[2]))\n",
    "                dt  = np.append(dt,int(sp[3]))\n",
    "            if sp[1] == 'c': #internal counter to check if we loose pulses\n",
    "                cntri = np.append(cntri,int(sp[2]))\n",
    "            \n",
    "            if sp[1] == 'p':\n",
    "                sadq = np.append(sadq,int(sp[2]))\n",
    "                temp1 = np.append(temp1,float(sp[3]))\n",
    "                temp2 = np.append(temp2,float(sp[4]))\n",
    "            \n",
    "            if sp[1] == 'x':\n",
    "                if sp[2] == 'f': # x f <V>        : 125 MHz frequency\n",
    "                    clk_freq = np.append(clk_freq,int(sp[3]))\n",
    "                if sp[2] == 't': # x t <V>        : temperature value}\n",
    "                    tempi = np.append(tempi,float(sp[3]))\n",
    "                if sp[2] == 'p': # x p <V>        : pressure value\n",
    "                    pres = np.append(pres,float(sp[3]))\n",
    "                if sp[2] == 'h': # GPS data\n",
    "                    tepoch = np.append(tepoch,int(sp[5]))\n",
    "                    #print(line[9])\n",
    "                    pass\n",
    "                if sp[2] == 'v': # x v <HV1> <HV2>         : HV voltages for channels 1 and 2\n",
    "                    hv1 = np.append(hv1,float(sp[3]))\n",
    "                    hv2 = np.append(hv2,float(sp[4]))\n",
    "            if sp[1] == 'r1': # x r1 <V>       : pulse rate at channel 1\n",
    "                r1 = np.append(r1,int(sp[2]))\n",
    "            if sp[1] == 'r2': # x r2 <V>       : pulse rate at channel 2\n",
    "                r2 = np.append(r2,int(sp[2]))\n",
    "\n",
    "#thefile.close()"
   ]
  },
  {
   "cell_type": "code",
   "execution_count": null,
   "metadata": {},
   "outputs": [],
   "source": [
    "#print(len(a1),len(p1),len(dt))\n",
    "#print([int(dt[i]*TIME_SEP*1e6) for i in range(10)])\n",
    "#print(dt[:10])\n",
    "#print(a1[:10]/p1[:10])"
   ]
  },
  {
   "cell_type": "code",
   "execution_count": null,
   "metadata": {},
   "outputs": [],
   "source": [
    "#fig,ax=plt.subplots()\n",
    "#plt.plot(dt%125e6)"
   ]
  },
  {
   "cell_type": "markdown",
   "metadata": {},
   "source": [
    "### Gráfico de A/P vs dt"
   ]
  },
  {
   "cell_type": "code",
   "execution_count": null,
   "metadata": {},
   "outputs": [],
   "source": [
    "ap_1 = np.array(a1/p1)\n",
    "ap_2 = np.array(a2/p2)"
   ]
  },
  {
   "cell_type": "code",
   "execution_count": null,
   "metadata": {},
   "outputs": [],
   "source": [
    "fig,ax=plt.subplots(1,2,figsize=(10,5))\n",
    "#h1,b1=np.histogram(p,bins=100,density=1)\n",
    "#ax.semilogy(b1[:-1],h1,'r*',lw=2,label='Diferencia temporal')\n",
    "#ax[0].plot([int(dt[i]*TIME_SEP*1e9) for i in range(len(dt))],a1/p1,'r.',label=r'$(A/P)_1$')\n",
    "#ax[1].plot([int(dt[i]*TIME_SEP*1e9) for i in range(len(dt))],a2/p2,'b.',label=r'$(A/P)_2$')\n",
    "ax[0].plot(dt*TIME_SEP*1e9,ap_1,'r.',label=r'$(A/P)_1$')\n",
    "ax[1].plot(dt*TIME_SEP*1e9,ap_2,'b.',label=r'$(A/P)_2$')\n",
    "#ax[1].plot(dt[:10]*TIME_SEP,a2[:10]/p2[:10],'b.',label=r'$(A/P)_2$')\n",
    "#ax[1].plot(a2[:10]/p2[:10],dt[:10]*TIME_SEP, 'b.',label=r'$(A/P)_2$')\n",
    "ax[0].legend()\n",
    "ax[0].set_ylabel('# entries')\n",
    "ax[0].set_xlabel(r'$\\delta t$ (ns)')\n",
    "ax[1].set_xlabel(r'$\\delta t$ (ns)')\n",
    "ax[1].legend()"
   ]
  },
  {
   "cell_type": "markdown",
   "metadata": {},
   "source": [
    "Gráfico de diferencia temporal con dt"
   ]
  },
  {
   "cell_type": "code",
   "execution_count": null,
   "metadata": {},
   "outputs": [],
   "source": [
    "#for i in range(1,11):\n",
    "#    print(dt[i]-dt[i-1], dt[i]-dt[i-1]%125e6, (dt[i]-dt[i-1]%125e6)*TIME_SEP)"
   ]
  },
  {
   "cell_type": "code",
   "execution_count": null,
   "metadata": {},
   "outputs": [],
   "source": [
    "#p=[((dt[i]-dt[i-1])%125e6)*TIME_SEP*1e9 for i in range(1,len(dt)-1)]\n",
    "#fig,ax=plt.subplots(figsize=(7,6))\n",
    "#ax.plot(p)"
   ]
  },
  {
   "cell_type": "markdown",
   "metadata": {},
   "source": [
    "### Análisis de la vida media del muón\n",
    "Cálculo de la vida media del muón con los datos de LAGO.\n",
    "Hago el histograma de diferencia temporal de todos los datos. Este histograma debe seguir la distribución de Poisson."
   ]
  },
  {
   "cell_type": "markdown",
   "metadata": {
    "ein.tags": "worksheet-0",
    "slideshow": {
     "slide_type": "-"
    }
   },
   "source": [
    "Para empezar, hacemos un fit con los datos para obtener el $\\tau$ de esta distribución. El valor del parámetro B estará normalmente en torno a los ~ 150, lo que nos entrega un $\\tau \\simeq 6.4$ ms. ¿De qué depende este valor?\n",
    "\n",
    "Para empezar, definimos la función con la cual vamos a hacer el fit. Esta es una función exponenciasl de la forma $A e^{-Bt} + C$, donde $\\frac{1}{B} = \\tau$."
   ]
  },
  {
   "cell_type": "code",
   "execution_count": null,
   "metadata": {},
   "outputs": [],
   "source": [
    "def func(t, A, B, C):\n",
    "    \"\"\"Modelo para nuestros datos.\"\"\"\n",
    "    return A * np.exp(-t*B) + C"
   ]
  },
  {
   "cell_type": "code",
   "execution_count": null,
   "metadata": {},
   "outputs": [],
   "source": [
    "delta_t=[((dt[i]-dt[i-1])%125e6)*TIME_SEP for i in range(1,len(dt)-1)]"
   ]
  },
  {
   "cell_type": "code",
   "execution_count": null,
   "metadata": {},
   "outputs": [],
   "source": [
    "h_dt,b_dt=np.histogram(delta_t,bins='auto')\n",
    "popt,pcov = curve_fit(func, b_dt[:-1], h_dt)\n",
    "\n",
    "fig,ax=plt.subplots(1,2,figsize=(10,5))\n",
    "#ax.semilogy(b1[:-1],h1,'r*',lw=2,label='Diferencia temporal')\n",
    "ax[0].plot(b_dt[:-1],h_dt,'r-',lw=2,label='Diferencia temporal')\n",
    "ax[0].plot(b_dt[:-1],func(b_dt[:-1],*popt),'g--',lw=2,label='Fit')\n",
    "ax[0].set_ylabel('# entries')\n",
    "ax[0].set_xlabel('t (s)')\n",
    "ax[0].legend()\n",
    "\n",
    "#fig,ax=plt.subplots(figsize=(7,6))\n",
    "#ax.semilogy(b1[:-1],h1,'r*',lw=2,label='Diferencia temporal')\n",
    "ax[1].semilogy(b_dt[:-1],h_dt,'r-',lw=2,label='Diferencia temporal')\n",
    "ax[1].semilogy(b_dt[:-1],func(b_dt[:-1],*popt),'g--',lw=2,label='Fit')\n",
    "ax[1].set_ylabel('# entries')\n",
    "ax[1].set_xlabel('t (s)')\n",
    "ax[1].legend()\n",
    "\n",
    "print(popt[0], popt[1], popt[2])\n",
    "print('tau = {:2.2f} ms'.format((1/popt[1])*1e3))"
   ]
  },
  {
   "cell_type": "markdown",
   "metadata": {},
   "source": [
    "Bien, ahora lo que queda es limpiar un poco nuestros datos para poder observar el decaimiento del muón. Para eso, nos concentramos en los tiempos cortos, es decir diferencias temporales entre pulsos en torno a los 10 us.\n",
    "Lo que se ve en el siguiente gráfico tiene que ver con las señales de ruido que están incorporadas a nuestros datos y el pico en torno a los ~6 u ~8 us tiene que ver con los afterpulses producidos dentro del PMT. Este último pico nos da información sobre el tamaño del PMT y si es nuevo o viejo, entre otras cosas."
   ]
  },
  {
   "cell_type": "code",
   "execution_count": null,
   "metadata": {},
   "outputs": [],
   "source": [
    "delta_t=[((dt[i]-dt[i-1])%125e6)*TIME_SEP*1e9 for i in range(1,len(dt)-1)]"
   ]
  },
  {
   "cell_type": "code",
   "execution_count": null,
   "metadata": {},
   "outputs": [],
   "source": [
    "delta_t=np.array(delta_t)\n",
    "delta_t2=delta_t[delta_t<10000]\n",
    "#h1,b1=np.histogram(p,bins=100,density=1)\n",
    "h_dt2,b_dt2=np.histogram(delta_t2,bins=np.arange(1,10000,5*8))\n",
    "#h_dt2,b_dt2=np.histogram(delta_t2,bins='auto')\n",
    "fig,ax=plt.subplots(figsize=(10,6))\n",
    "\n",
    "#ax.semilogy(b1[:-1],h1,'r*',lw=2,label='Diferencia temporal')\n",
    "ax.plot(b_dt2[:-1],h_dt2,'r-',lw=2,label='Diferencia temporal')\n",
    "ax.set_ylabel('# entries')\n",
    "ax.set_xlabel('t (ns)')\n",
    "#plt.yscale('log')\n",
    "ax.legend()\n",
    "\n",
    "#plt.show()"
   ]
  },
  {
   "cell_type": "markdown",
   "metadata": {},
   "source": [
    "Ahora me quedo solamente con aquellos pulsos tales que A/P > 1.75. Esto lo hacemos para sacarnos de encima las señales espúreas que se ven al principio del histograma (ruido, fuentes switching, etc.)."
   ]
  },
  {
   "cell_type": "code",
   "execution_count": null,
   "metadata": {},
   "outputs": [],
   "source": [
    "ap_clean = np.array([i for i in ap_1 if i > 3])\n",
    "inds = np.where(ap_1 > 3)\n",
    "dt_clean=dt[inds[0]]\n",
    "#print(inds[0][:-100])\n",
    "#dt_clean = [list(dt).index(i) for i in list(a1/p1).index(j) if j > 1.75]\n",
    "#print(len(ap_clean),len(dt_clean))\n",
    "#print(dt[:10],dt_clean[:10]  )\n",
    "#print(type(dt_clean))"
   ]
  },
  {
   "cell_type": "markdown",
   "metadata": {},
   "source": [
    "Vuelvo a graficar A/P"
   ]
  },
  {
   "cell_type": "code",
   "execution_count": null,
   "metadata": {},
   "outputs": [],
   "source": [
    "fig,ax=plt.subplots(figsize=(10,5))\n",
    "#h1,b1=np.histogram(p,bins=100,density=1)\n",
    "#ax.semilogy(b1[:-1],h1,'r*',lw=2,label='Diferencia temporal')\n",
    "ax.plot(dt*TIME_SEP*1e9,ap_1,'b*',label=r'$(A/P)_1$')\n",
    "ax.plot(dt_clean*TIME_SEP*1e9,ap_clean,'r.',label=r'$(A/P)_1$ cleaned')\n",
    "#ax[1].plot(dt*TIME_SEP*1e9,a2/p2,'b.',label=r'$(A/P)_2$')\n",
    "#ax.plot(ap_clean,'r.',label=r'$(A/P)_1$')\n",
    "#ax[1].plot([int(dt[i]*TIME_SEP*1e6) for i in range(len(dt))],a2/p2,'b.',label=r'$(A/P)_2$')\n",
    "#ax[1].plot(dt[:10]*TIME_SEP,a2[:10]/p2[:10],'b.',label=r'$(A/P)_2$')\n",
    "#ax[1].plot(a2[:10]/p2[:10],dt[:10]*TIME_SEP, 'b.',label=r'$(A/P)_2$')\n",
    "ax.legend()\n",
    "ax.set_ylabel('# entries')\n",
    "ax.set_xlabel(r'$\\delta t$ (ns)')\n",
    "#ax[1].set_xlabel(r'$\\delta t$ (us)')\n",
    "#ax[1].legend()"
   ]
  },
  {
   "cell_type": "code",
   "execution_count": null,
   "metadata": {},
   "outputs": [],
   "source": [
    "delta_t_clean=[((dt_clean[i]-dt_clean[i-1])%125e6)*TIME_SEP for i in range(1,len(dt_clean)-1)]"
   ]
  },
  {
   "cell_type": "code",
   "execution_count": null,
   "metadata": {},
   "outputs": [],
   "source": [
    "#xdat = np.linspace(-2, 4, 12)\n",
    "#ydat = func(xdat, Adat, Bdat, Cdat) + 0.2 * np.random.normal(size=len(xdat))\n",
    "\n",
    "#p=[((dt[i]-dt[i-1])%125e6)*TIME_SEP for i in range(1,len(dt)-1)]\n",
    "\n",
    "h_dtc,b_dtc=np.histogram(delta_t_clean,bins='auto')\n",
    "popt1,pcov1 = curve_fit(func, b_dtc[:-1], h_dtc)\n",
    "\n",
    "fig,ax=plt.subplots(1,2,figsize=(10,5))\n",
    "#ax.semilogy(b1[:-1],h1,'r*',lw=2,label='Diferencia temporal')\n",
    "ax[0].plot(b_dtc[:-1],h_dtc,'r-',lw=2,label='Diferencia temporal')\n",
    "ax[0].plot(b_dtc[:-1],func(b_dtc[:-1],*popt1),'g--',lw=2,label='Fit')\n",
    "#ax[0].plot(b_dt[:-1],h_dt,'k-',lw=2,label='Diferencia temporal')\n",
    "ax[0].set_ylabel('# entries')\n",
    "ax[0].set_xlabel('t (s)')\n",
    "ax[0].legend()\n",
    "\n",
    "#fig,ax=plt.subplots(figsize=(7,6))\n",
    "#ax.semilogy(b1[:-1],h1,'r*',lw=2,label='Diferencia temporal')\n",
    "#ax[1].semilogy(b_dtc[:-1],h_dtc,'r-',lw=2,label='Diferencia temporal')\n",
    "#ax[1].semilogy(b_dtc[:-1],func(b_dtc[:-1],*popt1),'g--',lw=2,label='Fit')\n",
    "ax[1].loglog(b_dtc[:-1],h_dtc,'r-',lw=2,label='Diferencia temporal')\n",
    "ax[1].loglog(b_dtc[:-1],func(b_dtc[:-1],*popt1),'g--',lw=2,label='Fit')\n",
    "ax[1].set_ylabel('# entries')\n",
    "ax[1].set_xlabel('t (s)')\n",
    "ax[1].legend()\n",
    "\n",
    "print(popt1[0], popt1[1], popt1[2])\n",
    "print('tau = {} us'.format((1/popt1[1])*1e6))\n",
    "#plt.show()\n",
    "\n",
    "#Fin del análisis de la vida media del muon\n"
   ]
  },
  {
   "cell_type": "code",
   "execution_count": null,
   "metadata": {},
   "outputs": [],
   "source": [
    "delta_t_clean=[((dt_clean[i]-dt_clean[i-1])%125e6)*TIME_SEP*1e9 for i in range(1,len(dt_clean)-1)]"
   ]
  },
  {
   "cell_type": "code",
   "execution_count": null,
   "metadata": {},
   "outputs": [],
   "source": [
    "delta_t_clean=np.array(delta_t_clean)\n",
    "delta_t_clean2=delta_t_clean[delta_t_clean<10000]\n",
    "#h1,b1=np.histogram(p,bins=100,density=1)\n",
    "h_dtc2,b_dtc2=np.histogram(delta_t_clean2,bins=np.arange(1,10000,30*8))\n",
    "#h_dtc2,b_dtc2=np.histogram(delta_t_clean2,bins='auto')\n",
    "popt2,pcov2 = curve_fit(func, b_dtc2[:-1], h_dtc2)\n",
    "\n",
    "fig,ax=plt.subplots(figsize=(7,6))\n",
    "#ax.semilogy(b1[:-1],h1,'r*',lw=2,label='Diferencia temporal')\n",
    "ax.plot(b_dtc2[:-1],h_dtc2,'r-',lw=2,label='Diferencia temporal')\n",
    "ax.plot(b_dtc2[:-1],func(b_dtc2[:-1],*popt2),'g--',lw=2,label='Fit')\n",
    "#ax.loglog(b_dtc2[:-1],h_dtc2,'r-',lw=2,label='Diferencia temporal')\n",
    "#ax.loglog(b_dtc2[:-1],func(b_dtc2[:-1],*popt2),'g--',lw=2,label='Fit')\n",
    "#ax.plot(func(b_dtc2,34,320,140))\n",
    "ax.set_ylabel('# entries')\n",
    "ax.set_xlabel('t (ns)')\n",
    "#plt.yscale('log')\n",
    "ax.legend()\n",
    "\n",
    "print(popt2[0], popt2[1], popt2[2])\n",
    "print('tau = {:2.8f} s'.format((1/popt2[1])))"
   ]
  },
  {
   "cell_type": "code",
   "execution_count": null,
   "metadata": {},
   "outputs": [],
   "source": []
  }
 ],
 "metadata": {
  "kernelspec": {
   "display_name": "Python 3",
   "language": "python",
   "name": "python3"
  },
  "language_info": {
   "codemirror_mode": {
    "name": "ipython",
    "version": 3
   },
   "file_extension": ".py",
   "mimetype": "text/x-python",
   "name": "python",
   "nbconvert_exporter": "python",
   "pygments_lexer": "ipython3",
   "version": "3.8.10"
  },
  "name": "01_introd_python.ipynb"
 },
 "nbformat": 4,
 "nbformat_minor": 1
}
